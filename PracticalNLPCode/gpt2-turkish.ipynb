{
 "cells": [
  {
   "cell_type": "code",
   "execution_count": 1,
   "id": "8dc390fb",
   "metadata": {},
   "outputs": [],
   "source": [
    "!pip install -qU datasets transformers"
   ]
  },
  {
   "cell_type": "code",
   "execution_count": 2,
   "id": "16dd1b25",
   "metadata": {},
   "outputs": [
    {
     "name": "stderr",
     "output_type": "stream",
     "text": [
      "C:\\Anaconda\\lib\\site-packages\\tqdm\\auto.py:21: TqdmWarning: IProgress not found. Please update jupyter and ipywidgets. See https://ipywidgets.readthedocs.io/en/stable/user_install.html\n",
      "  from .autonotebook import tqdm as notebook_tqdm\n"
     ]
    }
   ],
   "source": [
    "import torch\n",
    "from tokenizers import Tokenizer, trainers\n",
    "from tokenizers.models import BPE\n",
    "from tokenizers.pre_tokenizers import Whitespace\n",
    "from datasets import load_dataset\n",
    "from tqdm import tqdm\n",
    "from transformers import GPT2Config, GPT2LMHeadModel, AdamW, PreTrainedTokenizerFast, get_linear_schedule_with_warmup\n",
    "from torch.utils.data import Dataset, DataLoader\n",
    "from sklearn.model_selection import train_test_split\n",
    "import os"
   ]
  },
  {
   "cell_type": "code",
   "execution_count": 3,
   "id": "9680be59",
   "metadata": {},
   "outputs": [],
   "source": [
    "def load_and_tokenize_data():\n",
    "    \n",
    "    dataset = load_dataset(\"wikimedia/wikipedia\", \"20231101.tr\", split='train')\n",
    "    \n",
    "    # Byte Pair Encoding\n",
    "    tokenizer = Tokenizer(BPE(unk_token=\"[UNK]\"))\n",
    "     # boşluklara göre\n",
    "    tokenizer.pre_tokenizer = Whitespace()\n",
    "    trainer = trainers.BpeTrainer(vocab_size=30000, special_tokens=[\"[UNK]\", \"[CLS]\", \"[SEP]\", \"[PAD]\", \"[MASK]\"])\n",
    "    \n",
    "    texts = [example[\"text\"] for example in dataset]\n",
    "    tokenizer.train_from_iterator(texts, trainer)\n",
    "    \n",
    "    os.makedirs(\"tokenizer_files\", exist_ok=True)\n",
    "    tokenizer.model.save(\"tokenizer_files\")\n",
    "    vocab_size = tokenizer.get_vocab_size()\n",
    "    print(f\"Vocabulary size: {vocab_size}\")\n",
    "    \n",
    "    transformers_tokenizer = PreTrainedTokenizerFast(tokenizer_object=tokenizer)\n",
    "    transformers_tokenizer.pad_token = \"[PAD]\"\n",
    "    transformers_tokenizer.save_pretrained(\"tokenizer_files\")\n",
    "    \n",
    "    return transformers_tokenizer, texts, vocab_size"
   ]
  },
  {
   "cell_type": "code",
   "execution_count": 4,
   "id": "a13c1806",
   "metadata": {},
   "outputs": [],
   "source": [
    "class TextDataset(Dataset):\n",
    "    \n",
    "    def __init__(self, tokenizer, texts, block_size):\n",
    "        \n",
    "        self.tokenizer = tokenizer\n",
    "        self.block_size = block_size\n",
    "        self.examples = []\n",
    "        for text in texts:\n",
    "            # metni tokenleştir\n",
    "            tokens = tokenizer.encode(text)\n",
    "            # sabit uzunluğa sahip tokenler listesi\n",
    "            tokens = tokens[:block_size] + [tokenizer.pad_token_id] * max(0, block_size - len(tokens))\n",
    "            self.examples.append(tokens)\n",
    "\n",
    "    def __len__(self):\n",
    "        return len(self.examples)\n",
    "\n",
    "    def __getitem__(self, idx):\n",
    "        return torch.tensor(self.examples[idx], dtype=torch.long)"
   ]
  },
  {
   "cell_type": "code",
   "execution_count": 5,
   "id": "9ee284b7",
   "metadata": {},
   "outputs": [],
   "source": [
    "def initialize_model(vocab_size, ctx_length=1024):\n",
    "    config = GPT2Config(vocab_size=vocab_size,\n",
    "                        n_ctx=ctx_length,\n",
    "                        n_embd=512,\n",
    "                        n_layer=6,\n",
    "                        n_head=8)\n",
    "    model = GPT2LMHeadModel(config)\n",
    "    device = torch.device(\"cuda\" if torch.cuda.is_available() else \"cpu\")\n",
    "    model.to(device)\n",
    "    return model, device"
   ]
  },
  {
   "cell_type": "code",
   "execution_count": 6,
   "id": "b724a6cb",
   "metadata": {},
   "outputs": [],
   "source": [
    "def prepare_data_loaders(tokenizer, texts, block_size, train_batch_size=8, val_batch_size=8):\n",
    "    \n",
    "    train_texts, val_texts = train_test_split(texts, test_size=0.1, random_state=42)\n",
    "    \n",
    "    train_dataset = TextDataset(tokenizer, train_texts, block_size)\n",
    "    val_dataset = TextDataset(tokenizer, val_texts, block_size)\n",
    "    \n",
    "    train_data_loader = DataLoader(train_dataset, batch_size=train_batch_size, shuffle=True)\n",
    "    val_data_loader = DataLoader(val_dataset, batch_size=val_batch_size, shuffle=False)\n",
    "    \n",
    "    return train_data_loader, val_data_loader"
   ]
  },
  {
   "cell_type": "code",
   "execution_count": 7,
   "id": "5c04706f",
   "metadata": {},
   "outputs": [],
   "source": [
    "def train_model(model, train_data_loader, val_data_loader, device, epochs=1):\n",
    "    optimizer = AdamW(model.parameters(), lr=5e-5)\n",
    "    num_training_steps = epochs * len(train_data_loader)\n",
    "    scheduler = get_linear_schedule_with_warmup(\n",
    "        optimizer,\n",
    "        num_warmup_steps=num_training_steps * 0.1,\n",
    "        num_training_steps=num_training_steps\n",
    "    )\n",
    "\n",
    "    for epoch in range(epochs):\n",
    "        model.train()\n",
    "        total_train_loss = 0\n",
    "        train_progress_bar = tqdm(train_data_loader, desc=f\"Epoch {epoch + 1}/{epochs} [Training]\")\n",
    "        for batch in train_progress_bar:\n",
    "            inputs = batch.to(device)\n",
    "            outputs = model(inputs, labels=inputs)\n",
    "            loss = outputs.loss\n",
    "            total_train_loss += loss.item()\n",
    "\n",
    "            optimizer.zero_grad()\n",
    "            loss.backward()\n",
    "            optimizer.step()\n",
    "            scheduler.step()\n",
    "\n",
    "            lr = scheduler.get_last_lr()[0]\n",
    "            train_progress_bar.set_description(f\"Epoch {epoch + 1}/{epochs} [Training], Loss: {loss.item():.4f}, LR: {lr:.2e}\")\n",
    "\n",
    "        avg_train_loss = total_train_loss / len(train_data_loader)\n",
    "        print(f\"Epoch {epoch + 1}/{epochs}, Average Training Loss: {avg_train_loss:.4f}\")\n",
    "\n",
    "        model.eval()\n",
    "        total_val_loss = 0\n",
    "        val_progress_bar = tqdm(val_data_loader, desc=f\"Epoch {epoch + 1}/{epochs} [Validation]\")\n",
    "        with torch.no_grad():\n",
    "            for batch in val_progress_bar:\n",
    "                inputs = batch.to(device)\n",
    "                outputs = model(inputs, labels=inputs)\n",
    "                loss = outputs.loss\n",
    "                total_val_loss += loss.item()\n",
    "\n",
    "                val_progress_bar.set_description(f\"Epoch {epoch + 1}/{epochs} [Validation], Loss: {loss.item():.4f}\")\n",
    "\n",
    "        avg_val_loss = total_val_loss / len(val_data_loader)\n",
    "        print(f\"Epoch {epoch + 1}/{epochs}, Average Validation Loss: {avg_val_loss:.4f}\")"
   ]
  },
  {
   "cell_type": "code",
   "execution_count": 8,
   "id": "f37cee4f",
   "metadata": {},
   "outputs": [
    {
     "name": "stdout",
     "output_type": "stream",
     "text": [
      "Vocabulary size: 30000\n"
     ]
    },
    {
     "name": "stderr",
     "output_type": "stream",
     "text": [
      "\n",
      "KeyboardInterrupt\n",
      "\n"
     ]
    }
   ],
   "source": [
    "def main():\n",
    "    tokenizer, texts, vocab_size = load_and_tokenize_data()\n",
    "    model, device = initialize_model(vocab_size)\n",
    "    train_data_loader, val_data_loader = prepare_data_loaders(tokenizer,\n",
    "                                        texts, model.config.n_ctx)\n",
    "    train_model(model, train_data_loader, val_data_loader, device)\n",
    "    model.save_pretrained(\"my_gpt2_turkish_model\")\n",
    "    \n",
    "if __name__ == \"__main__\":\n",
    "    main()"
   ]
  },
  {
   "cell_type": "code",
   "execution_count": null,
   "id": "1b50a6ec",
   "metadata": {},
   "outputs": [],
   "source": [
    "def generate_text(model, tokenizer, prompt, max_length=10,\n",
    "                  temperature=0.7, top_k=40, top_p=1):\n",
    "    input_ids = tokenizer.encode(prompt, \n",
    "                        return_tensors=\"pt\").to(model.device)\n",
    "    output = model.generate(input_ids,\n",
    "                           max_length=max_length,\n",
    "                           temperature=temperature,\n",
    "                           top_k=top_k,\n",
    "                           top_p=top_p,\n",
    "                           do_sample=True,\n",
    "                           pad_token_id=tokenizer.eos_token_id)\n",
    "    return tokenizer.decode(output[0], skip_special_tokens=True)\n",
    "\n",
    "def main():\n",
    "    model_path = \"my_gpt2_turkish_model\"\n",
    "    tokenizer_path = \"tokenizer_files\"\n",
    "    model = GPT2LMHeadModel.from_pretrained(model_path)\n",
    "    tokenizer = PreTrainedTokenizerFast.from_pretrained(tokenizer_path,\n",
    "                                            pad_token=\"[PAD]\")\n",
    "    device = torch.device(\"cuda\" if torch.cuda.is_available() else \"cpu\")\n",
    "    model.to(device)\n",
    "    \n",
    "    prompt = \"Yapay zekanın en önemli özellikleri\"\n",
    "    \n",
    "    generated_text = generate_text(model, tokenizer, prompt)\n",
    "    print(\"Generated Text:\")\n",
    "    print(generated_text)\n",
    "    \n",
    "if __name__ == \"__main__\":\n",
    "    main()"
   ]
  }
 ],
 "metadata": {
  "kernelspec": {
   "display_name": "Python 3 (ipykernel)",
   "language": "python",
   "name": "python3"
  },
  "language_info": {
   "codemirror_mode": {
    "name": "ipython",
    "version": 3
   },
   "file_extension": ".py",
   "mimetype": "text/x-python",
   "name": "python",
   "nbconvert_exporter": "python",
   "pygments_lexer": "ipython3",
   "version": "3.10.13"
  }
 },
 "nbformat": 4,
 "nbformat_minor": 5
}
