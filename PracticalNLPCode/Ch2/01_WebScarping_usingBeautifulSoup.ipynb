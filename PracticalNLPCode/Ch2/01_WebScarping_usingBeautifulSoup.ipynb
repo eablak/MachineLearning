{
 "cells": [
  {
   "cell_type": "code",
   "execution_count": 1,
   "metadata": {},
   "outputs": [
    {
     "name": "stdout",
     "output_type": "stream",
     "text": [
      "Requirement already satisfied: beautifulsoup4 in c:\\anaconda\\lib\\site-packages (4.12.2)\n",
      "Requirement already satisfied: soupsieve>1.2 in c:\\anaconda\\lib\\site-packages (from beautifulsoup4) (2.4)\n",
      "Note: you may need to restart the kernel to use updated packages.\n"
     ]
    }
   ],
   "source": [
    "pip install beautifulsoup4"
   ]
  },
  {
   "cell_type": "code",
   "execution_count": null,
   "metadata": {},
   "outputs": [],
   "source": [
    "try :\n",
    "    import google.colab\n",
    "    !curl https://raw.githubusercontent.com/practical-nlp/practical-nlp/master/Ch2/ch2-requirements.txt | xargs -n 1 -L 1 pip install\n",
    "except ModuleNotFoundError :\n",
    "    !pip install -r \"ch2-requirements.txt\""
   ]
  },
  {
   "cell_type": "code",
   "execution_count": 2,
   "metadata": {},
   "outputs": [],
   "source": [
    "from pprint import pprint\n",
    "from bs4 import BeautifulSoup\n",
    "from urllib.request import urlopen\n",
    "from urllib.request import Request, urlopen\n",
    "import requests"
   ]
  },
  {
   "cell_type": "code",
   "execution_count": 3,
   "metadata": {},
   "outputs": [],
   "source": [
    "# error\n",
    "\n",
    "# myurl = \"https://stackoverflow.com/questions/415511/how-to-get-the-current-time-in-python\" # specify the url\n",
    "# html = urlopen(myurl).read() # query the website so that it returns a html page  \n",
    "# soupified = BeautifulSoup(html, 'html.parser') # parse the html in the 'html' variable, and store it in Beautiful Soup format"
   ]
  },
  {
   "cell_type": "code",
   "execution_count": 4,
   "metadata": {},
   "outputs": [],
   "source": [
    "import urllib.request\n",
    "\n",
    "request = urllib.request.Request(url=\"https://stackoverflow.com/questions/415511/how-to-get-the-current-time-in-python\",\n",
    "                                headers={\"User-Agent\":\"Mozilla/5.0\"})\n",
    "f = urllib.request.urlopen(request)\n",
    "myfile = f.read()\n",
    "# print(myfile)"
   ]
  },
  {
   "cell_type": "code",
   "execution_count": 5,
   "metadata": {},
   "outputs": [],
   "source": [
    "soupified = BeautifulSoup(myfile, 'html.parser')"
   ]
  },
  {
   "cell_type": "code",
   "execution_count": 6,
   "metadata": {},
   "outputs": [
    {
     "name": "stdout",
     "output_type": "stream",
     "text": [
      "('<!DOCTYPE html>\\n'\n",
      " '<html class=\"html__responsive\" itemscope=\"\" '\n",
      " 'itemtype=\"https://schema.org/QAPage\" lang=\"en\">\\n'\n",
      " ' <head>\\n'\n",
      " '  <title>\\n'\n",
      " '   datetime - How do I get the current time in Python? - Stack Overflow\\n'\n",
      " '  </title>\\n'\n",
      " '  <link '\n",
      " 'href=\"https://cdn.sstatic.net/Sites/stackoverflow/Img/favicon.ico?v=ec617d715196\" '\n",
      " 'rel=\"shortcut icon\"/>\\n'\n",
      " '  <link '\n",
      " 'href=\"https://cdn.sstatic.net/Sites/stackoverflow/Img/apple-touch-icon.png?v=c78bd457575a\" '\n",
      " 'rel=\"apple-touch-icon\"/>\\n'\n",
      " '  <link '\n",
      " 'href=\"https://cdn.sstatic.net/Sites/stackoverflow/Img/apple-touch-icon.png?v=c78bd457575a\" '\n",
      " 'rel=\"image_src\"/>\\n'\n",
      " '  <link href=\"/opensearch.xml\" rel=\"search\" title=\"Stack Overflow\" '\n",
      " 'type=\"application/opensearchdescription+xml\"/>\\n'\n",
      " '  <link '\n",
      " 'href=\"https://stackoverflow.com/questions/415511/how-do-i-get-the-current-time-in-python\" '\n",
      " 'rel=\"canonical\">\\n'\n",
      " '   <meta content=\"width=device-width, height=device-height, '\n",
      " 'initial-scale=1.0, minimum-scale=1.0\" name=\"viewport\"/>\\n'\n",
      " '   <meta content=\"website\" property=\"og:type\">\\n'\n",
      " '    <meta '\n",
      " 'content=\"https://stackoverflow.com/questions/415511/how-do-i-get-the-current-time-in-python\" '\n",
      " 'property=\"og:url\"/>\\n'\n",
      " '    <meta content=\"Stack Overflow\" property=\"og:site_name\"/>\\n'\n",
      " '    <meta '\n",
      " 'content=\"https://cdn.sstatic.net/Sites/stackoverflow/Img/apple-touch-icon@2.png?v=73d79a89bded\" '\n",
      " 'itemprop=\"image primaryImageOfPage\" property=\"og:image\"/>\\n'\n",
      " '    <meta content=\"summary\" name=\"twitter:card\"/>\\n'\n",
      " '    <meta content=\"stackoverflow.com\" name=\"twitter:domain\"/>\\n'\n",
      " '    <meta content=\"How do I get the current time in Python?\" itemprop=\"name\" '\n",
      " 'name=\"twitter:title\" property=\"og:title\"/>\\n'\n",
      " '    <meta content=\"How do I get the current time in Python?\" '\n",
      " 'itemprop=\"description\" name=\"twitter:description\" '\n",
      " 'property=\"og:description\"/>\\n'\n",
      " '    <script id=\"webpack-public-path\" type=\"text/uri-list\">\\n'\n",
      " '     https://cdn.sstatic.net/\\n'\n",
      " '    </script>\\n'\n",
      " '    <script '\n",
      " 'src=\"https://ajax.googleapis.com/ajax/libs/jquery/1.12.4/jquery.js\">\\n'\n",
      " '    </script>\\n'\n",
      " '    <script defer=\"\" '\n",
      " 'src=\"https://cdn.sstatic.net/Js/third-party/npm/@stackoverflow/stacks/dist/js/stacks.min.js?v=d5f780ae3281\">')\n"
     ]
    }
   ],
   "source": [
    "pprint(soupified.prettify()[:2000])"
   ]
  },
  {
   "cell_type": "code",
   "execution_count": 7,
   "metadata": {},
   "outputs": [
    {
     "data": {
      "text/plain": [
       "<title>datetime - How do I get the current time in Python? - Stack Overflow</title>"
      ]
     },
     "execution_count": 7,
     "metadata": {},
     "output_type": "execute_result"
    }
   ],
   "source": [
    "soupified.title"
   ]
  },
  {
   "cell_type": "code",
   "execution_count": 8,
   "metadata": {},
   "outputs": [
    {
     "name": "stdout",
     "output_type": "stream",
     "text": [
      "Question: \n",
      " How do I get the current time in Python?\n",
      "Best answer: \n",
      " Use datetime:\n",
      ">>> import datetime\n",
      ">>> now = datetime.datetime.now()\n",
      ">>> now\n",
      "datetime.datetime(2009, 1, 6, 15, 8, 24, 78915)\n",
      ">>> print(now)\n",
      "2009-01-06 15:08:24.789150\n",
      "\n",
      "For just the clock time without the date:\n",
      ">>> now.time()\n",
      "datetime.time(15, 8, 24, 78915)\n",
      ">>> print(now.time())\n",
      "15:08:24.789150\n",
      "\n",
      "\n",
      "To save typing, you can import the datetime object from the datetime module:\n",
      ">>> from datetime import datetime\n",
      "\n",
      "Then remove the prefix datetime. from all of the above.\n"
     ]
    }
   ],
   "source": [
    "question = soupified.find(\"div\", {\"class\":\"question\"})\n",
    "questiontext = question.find(\"div\", {\"class\":\"s-prose js-post-body\"})\n",
    "print(\"Question: \\n\", questiontext.get_text().strip())\n",
    "\n",
    "answer = soupified.find(\"div\", {\"class\":\"answer\"})\n",
    "answertext = answer.find(\"div\", {\"class\", \"s-prose js-post-body\"})\n",
    "print(\"Best answer: \\n\", answertext.get_text().strip())"
   ]
  },
  {
   "cell_type": "markdown",
   "metadata": {},
   "source": [
    "BeautifulSoup is one of the many libraries which allow us to scrape web pages. Depending on your needs you can choose between the many available choices like beautifulsoup, scrapy, selenium, etc"
   ]
  }
 ],
 "metadata": {
  "kernelspec": {
   "display_name": "Python 3 (ipykernel)",
   "language": "python",
   "name": "python3"
  },
  "language_info": {
   "codemirror_mode": {
    "name": "ipython",
    "version": 3
   },
   "file_extension": ".py",
   "mimetype": "text/x-python",
   "name": "python",
   "nbconvert_exporter": "python",
   "pygments_lexer": "ipython3",
   "version": "3.10.13"
  }
 },
 "nbformat": 4,
 "nbformat_minor": 2
}
