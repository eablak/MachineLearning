{
 "cells": [
  {
   "cell_type": "code",
   "execution_count": 1,
   "id": "14d7db98",
   "metadata": {},
   "outputs": [
    {
     "data": {
      "text/plain": [
       "['dog bites man', 'man bites dog', 'dog eats meat', 'man eats food']"
      ]
     },
     "execution_count": 1,
     "metadata": {},
     "output_type": "execute_result"
    }
   ],
   "source": [
    "documents = [\"Dog bites man.\", \"Man bites dog.\", \"Dog eats meat.\", \"Man eats food.\"]\n",
    "\n",
    "processed_docs = [doc.lower().replace(\".\",\"\") for doc in documents]\n",
    "processed_docs"
   ]
  },
  {
   "cell_type": "code",
   "execution_count": 3,
   "id": "df6b1a3e",
   "metadata": {},
   "outputs": [
    {
     "name": "stdout",
     "output_type": "stream",
     "text": [
      "Our vocabulary:  {'dog': 3, 'bites': 0, 'man': 12, 'dog bites': 4, 'bites man': 2, 'dog bites man': 5, 'man bites': 13, 'bites dog': 1, 'man bites dog': 14, 'eats': 8, 'meat': 17, 'dog eats': 6, 'eats meat': 10, 'dog eats meat': 7, 'food': 11, 'man eats': 15, 'eats food': 9, 'man eats food': 16}\n"
     ]
    }
   ],
   "source": [
    "from sklearn.feature_extraction.text import CountVectorizer\n",
    "\n",
    "count_vect = CountVectorizer(ngram_range=(1,3))\n",
    "\n",
    "bow_rep = count_vect.fit_transform(processed_docs)\n",
    "print(\"Our vocabulary: \",count_vect.vocabulary_)"
   ]
  },
  {
   "cell_type": "code",
   "execution_count": 4,
   "id": "ac008938",
   "metadata": {},
   "outputs": [
    {
     "name": "stdout",
     "output_type": "stream",
     "text": [
      "Bow representation for 'dog bites man':  [[1 0 1 1 1 1 0 0 0 0 0 0 1 0 0 0 0 0]]\n",
      "Bow representation for 'man bites dog':  [[1 1 0 1 0 0 0 0 0 0 0 0 1 1 1 0 0 0]]\n"
     ]
    }
   ],
   "source": [
    "print(\"Bow representation for 'dog bites man': \", bow_rep[0].toarray())\n",
    "print(\"Bow representation for 'man bites dog': \", bow_rep[1].toarray())"
   ]
  },
  {
   "cell_type": "code",
   "execution_count": 5,
   "id": "7916a8d6",
   "metadata": {},
   "outputs": [
    {
     "name": "stdout",
     "output_type": "stream",
     "text": [
      "BoW representation for 'dog and dog are friends':  [[1 1 1 1 1 2 1 1 1 1 1]]\n"
     ]
    }
   ],
   "source": [
    "temp = count_vect.fit_transform([\"dog and dog are friends\"])\n",
    "print(\"BoW representation for 'dog and dog are friends': \", temp.toarray())"
   ]
  },
  {
   "cell_type": "code",
   "execution_count": 6,
   "id": "3cd54412",
   "metadata": {},
   "outputs": [
    {
     "name": "stdout",
     "output_type": "stream",
     "text": [
      "temp vocabulary:  {'dog': 5, 'and': 0, 'are': 3, 'friends': 10, 'dog and': 6, 'and dog': 1, 'dog are': 8, 'are friends': 4, 'dog and dog': 7, 'and dog are': 2, 'dog are friends': 9}\n"
     ]
    }
   ],
   "source": [
    "print(\"temp vocabulary: \",count_vect.vocabulary_)"
   ]
  }
 ],
 "metadata": {
  "kernelspec": {
   "display_name": "Python 3 (ipykernel)",
   "language": "python",
   "name": "python3"
  },
  "language_info": {
   "codemirror_mode": {
    "name": "ipython",
    "version": 3
   },
   "file_extension": ".py",
   "mimetype": "text/x-python",
   "name": "python",
   "nbconvert_exporter": "python",
   "pygments_lexer": "ipython3",
   "version": "3.10.13"
  }
 },
 "nbformat": 4,
 "nbformat_minor": 5
}
